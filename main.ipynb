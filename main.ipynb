{
 "cells": [
  {
   "cell_type": "markdown",
   "metadata": {},
   "source": [
    "# Spatial Branching Process Model for Epidemic Diffusion"
   ]
  },
  {
   "cell_type": "markdown",
   "metadata": {},
   "source": [
    "This is an example implementation of \"Epidemic Overdispersion Strengthens the Effectiveness of Mobility Restrictions\" (Großmann et al.).\n",
    "See https://www.researchgate.net/publication/348680143_Epidemic_Overdispersion_Strengthens_the_Effectiveness_of_Mobility_Restrictions for more information.\n",
    "You can simply run all the cells from top to bottom to get the results.\n",
    "\n",
    "Note that his is PoC-code and not optimized.\n",
    "Tested with *Julia 1.5.3*."
   ]
  },
  {
   "cell_type": "code",
   "execution_count": null,
   "metadata": {},
   "outputs": [],
   "source": [
    "# Only do this once, obviously\n",
    "\n",
    "#using Pkg\n",
    "#Pkg.add(\"StatsBase\")  \n",
    "#Pkg.add(\"Plots\")\n",
    "#Pkg.add(\"Distributions\")\n",
    "#Pkg.add(\"Random\")\n",
    "#Pkg.add(\"SharedArrays\")\n",
    "#Pkg.add(\"Distributed\")\n",
    "#Pkg.add(\"DataFrames\")\n",
    "#Pkg.add(\"CSV\")"
   ]
  },
  {
   "cell_type": "markdown",
   "metadata": {},
   "source": [
    "# Preliminaries"
   ]
  },
  {
   "cell_type": "code",
   "execution_count": null,
   "metadata": {},
   "outputs": [],
   "source": [
    "using StatsBase\n",
    "using Plots\n",
    "using Distributions    \n",
    "using Random\n",
    "using SharedArrays\n",
    "using Distributed\n",
    "using DataFrames\n",
    "using CSV\n",
    "gr()\n",
    "import Base: floor, ceil"
   ]
  },
  {
   "cell_type": "markdown",
   "metadata": {},
   "source": [
    "### How to create a model"
   ]
  },
  {
   "cell_type": "code",
   "execution_count": null,
   "metadata": {},
   "outputs": [],
   "source": [
    "mutable struct Model\n",
    "  agents_num::Int64\n",
    "  infected_init::Int64\n",
    "  offspring_dist_type::String\n",
    "  dispersion::Float64\n",
    "  r0::Float64\n",
    "  travel_probability::Float64 \n",
    "  travel_stop::Union{Float64, Int64}\n",
    "  rate_func\n",
    "  sample_point\n",
    "end"
   ]
  },
  {
   "cell_type": "code",
   "execution_count": null,
   "metadata": {},
   "outputs": [],
   "source": [
    "function rate_func(x::Float64)::Float64\n",
    "     (1/(x+0.000001))^5\n",
    "end\n",
    "sample_point = () -> rand(2)\n",
    "# example model creation\n",
    "model=Model(1000, 5, \"fixed\", NaN, 3.0, 1.0, Inf, rate_func, sample_point)"
   ]
  },
  {
   "cell_type": "markdown",
   "metadata": {},
   "source": [
    "### Functions\n"
   ]
  },
  {
   "cell_type": "code",
   "execution_count": null,
   "metadata": {},
   "outputs": [],
   "source": [
    "# re-parametrization of Gamma distribtuion (in epidemiology, we use this formualtion of the Gamma distribution)\n",
    "function sample_by_k(k::Float64=0.1, r0::Float64=2.0)::Float64\n",
    "    var::Float64 = r0 ^ 2 / k\n",
    "    scale::Float64 = var / r0\n",
    "    g::Gamma = Gamma(k, scale)\n",
    "    rand(g)\n",
    "end\n",
    "\n",
    "# sample number of offsprings\n",
    "function generate_offspring_count(model::Model)::Int64\n",
    "    r0::Float64 = model.r0\n",
    "    if model.offspring_dist_type == \"fixed\"\n",
    "        if floor(r0) == ceil(r0)\n",
    "            return floor(model.r0)\n",
    "        end\n",
    "        low = floor(r0)\n",
    "        return  rand()> r0 - low ? low : low+1\n",
    "    elseif model.offspring_dist_type == \"poisson\"\n",
    "        r0 = model.r0\n",
    "    elseif model.offspring_dist_type == \"gammapoisson\"\n",
    "        r0 = sample_by_k(model.dispersion, model.r0)\n",
    "    else\n",
    "        error(\"unknown distribution type\")\n",
    "    end\n",
    "    poi::Poisson = Poisson(r0)\n",
    "    offspring_count::Int64 = rand(poi)\n",
    "    offspring_count\n",
    "end\n",
    "\n",
    "generate_offspring_count(model)"
   ]
  },
  {
   "cell_type": "markdown",
   "metadata": {},
   "source": [
    "### Code to place the agents (randomly) in the 2D-plane"
   ]
  },
  {
   "cell_type": "code",
   "execution_count": null,
   "metadata": {},
   "outputs": [],
   "source": [
    "function sample_4regions(puffer::Float64=0.1)::Array{Float64,1}\n",
    "    pos = zeros(2)\n",
    "    while true\n",
    "        pos = rand(2)\n",
    "        if (pos[1] < 0.5-puffer || pos[1] > 0.5+puffer) && (pos[2] < 0.5-puffer || pos[2] > 0.5+puffer)\n",
    "            break\n",
    "        end\n",
    "    end\n",
    "    pos\n",
    "end\n",
    "\n",
    "function sample_16regions()::Array{Float64,1}\n",
    "    s = 3\n",
    "    while true\n",
    "        x1 = sample(0:s)/s\n",
    "        #x1 = x1 + (rand() -0.5 ) * 0.1\n",
    "        x1 = x1 + rand(Normal(0.0, 0.03))\n",
    "        x2 = sample(0:s)/s\n",
    "        #x2 = x2 + (rand() -0.5 ) * 0.1\n",
    "        x2 = x2 + rand(Normal(0.0, 0.03))\n",
    "        if x1 > 0.0  && x1 < 1.0 && x2 > 0.0  && x2 < 1.0 \n",
    "            return [x1, x2]\n",
    "        end\n",
    "    end\n",
    "\n",
    "end\n",
    "\n",
    "function sample_16regionsSoft()::Array{Float64,1}\n",
    "    s = 3\n",
    "    while true\n",
    "        x1 = sample(0:s)/s\n",
    "        #x1 = x1 + (rand() -0.5 ) * 0.1\n",
    "        x1 = x1 + rand(Normal(0.0, 0.07))\n",
    "        x2 = sample(0:s)/s\n",
    "        #x2 = x2 + (rand() -0.5 ) * 0.1\n",
    "        x2 = x2 + rand(Normal(0.0, 0.07))\n",
    "        if x1 > 0.0  && x1 < 1.0 && x2 > 0.0  && x2 < 1.0 \n",
    "            return [x1, x2]\n",
    "        end\n",
    "    end\n",
    "\n",
    "end\n",
    "\n",
    "\n",
    "function gen_agents(sample_point, agent_num::Int64, puffer::Float64=0.1)::Array{Float64,2}\n",
    "    agents_pos::Array{Float64,2} = zeros(Float64, (agent_num,2))\n",
    "    for i=1:size(agents_pos)[1]\n",
    "        agents_pos[i,:] = sample_point()\n",
    "    end\n",
    "    agents_pos\n",
    "end\n",
    "\n",
    "gen_agents(sample_4regions, 2)\n",
    "\n",
    "#sample_structure()"
   ]
  },
  {
   "cell_type": "markdown",
   "metadata": {},
   "source": [
    "### Simulation Utils"
   ]
  },
  {
   "cell_type": "code",
   "execution_count": null,
   "metadata": {},
   "outputs": [],
   "source": [
    "function get_closest_n(infected_agent::Int64, agents_pos::Array{Float64, 2}, n::Int64)::Set{Int64}\n",
    "    if n == 0\n",
    "        return Set([])\n",
    "    end\n",
    "    active_pos::Array{Float64,1} = agents_pos[infected_agent,1:2]\n",
    "    agents::UnitRange{Int64} = 1:size(agents_pos)[1]\n",
    "    distance::Array{Float64,1} = [sqrt((active_pos[1]-agents_pos[i,1])^2 + (active_pos[2]-agents_pos[i,2])^2) for i in agents]\n",
    "    distance[infected_agent] = Inf\n",
    "    distance_i = [(i,distance[i]) for i in agents]\n",
    "    sort!(distance_i, by=x->x[2])\n",
    "    my_samps = distance_i[1:n]\n",
    "    my_samps_i =  [i for (i,_)=my_samps]\n",
    "    Set(my_samps_i)\n",
    "end"
   ]
  },
  {
   "cell_type": "code",
   "execution_count": null,
   "metadata": {},
   "outputs": [],
   "source": [
    "function generate_offsprings(infected_agent::Int64, agents_pos::Array{Float64, 2}, offspring_num::Int64, model::Model)::Set{Int64}\n",
    "    active_pos::Array{Float64,1} = agents_pos[infected_agent,1:2]\n",
    "    agents::UnitRange{Int64} = 1:size(agents_pos)[1]\n",
    "    distance::Array{Float64,1} = [sqrt((active_pos[1]-agents_pos[i,1])^2 + (active_pos[2]-agents_pos[i,2])^2) for i in agents]\n",
    "    weights::Array{Float64,1} = [model.rate_func(d) for d in distance]\n",
    "    weights[infected_agent] = 0.0\n",
    "    my_samps::Array{Int64,1} = sample(agents, Weights(weights), offspring_num, replace=false)\n",
    "    Set(my_samps)\n",
    "end"
   ]
  },
  {
   "cell_type": "code",
   "execution_count": null,
   "metadata": {},
   "outputs": [],
   "source": [
    "function plot_agents(name::String, agents_pos::Array{Float64, 2}, active_agents::Set{Int64}, recovered_agents::Set{Int64}, step_i)\n",
    "    plot(agents_pos[:,1], agents_pos[:,2], seriestype = :scatter, title = \"Step $(step_i)\", color=Colors.JULIA_LOGO_COLORS.blue, legend = false, opacity=0.2)\n",
    "    aa = collect(active_agents)\n",
    "    plot!(agents_pos[aa,1], agents_pos[aa,2], seriestype = :scatter, color=Colors.JULIA_LOGO_COLORS.red, legend = false)\n",
    "    ra = collect(recovered_agents)\n",
    "    plot!(agents_pos[ra,1], agents_pos[ra,2], seriestype = :scatter, color=Colors.JULIA_LOGO_COLORS.green, legend = false)\n",
    "    savefig(\"plots/plot_$(name)_$(step_i+1000).pdf\")\n",
    "end"
   ]
  },
  {
   "cell_type": "markdown",
   "metadata": {},
   "source": [
    "# Simulation Code"
   ]
  },
  {
   "cell_type": "code",
   "execution_count": null,
   "metadata": {},
   "outputs": [],
   "source": [
    "function simulate(model::Model, plot::Bool = true, name::String=\"model\")::Int64\n",
    "    agents_pos::Array{Float64, 2} = gen_agents(model.sample_point, model.agents_num)\n",
    "    recovered_agents::Set{Int64} = Set([])\n",
    "    active_agents::Set{Int64} = Set([1])\n",
    "    active_agents = union(active_agents, get_closest_n(1, agents_pos, model.infected_init-1))\n",
    "    \n",
    "    if isnan(model.travel_stop) || model.travel_stop < 0 \n",
    "        model.travel_stop = model.agents_num+1\n",
    "    end\n",
    "    \n",
    "    for step_i = 1:100\n",
    "        #println(active_agents)\n",
    "        if step_i == 1 && plot\n",
    "            plot_agents(name, agents_pos, active_agents, recovered_agents, 0)\n",
    "        end\n",
    "        if length(active_agents) == 0\n",
    "            break\n",
    "        end\n",
    "        new_active_agents::Set{Int64} = Set()\n",
    "        for a_i = active_agents\n",
    "            if rand() < model.travel_probability && model.travel_stop > length(recovered_agents) # TODO add to model\n",
    "                agents_pos[a_i,:] = model.sample_point()\n",
    "            end\n",
    "            offspring_num::Int64 = generate_offspring_count(model)\n",
    "            new_active_agents_i::Set{Int64} = generate_offsprings(a_i, agents_pos, offspring_num, model)\n",
    "            # assert(a_i not in new_active_agents_i)\n",
    "            new_active_agents = union(new_active_agents, new_active_agents_i)\n",
    "        end\n",
    "        new_active_agents = setdiff(new_active_agents, recovered_agents)\n",
    "        new_active_agents = setdiff(new_active_agents, active_agents)\n",
    "        recovered_agents = union(recovered_agents, active_agents)  \n",
    "        active_agents = new_active_agents  \n",
    "        if plot\n",
    "            plot_agents(name, agents_pos, active_agents, recovered_agents, step_i) \n",
    "        end\n",
    "    end\n",
    "    return length(recovered_agents)\n",
    "end"
   ]
  },
  {
   "cell_type": "code",
   "execution_count": null,
   "metadata": {},
   "outputs": [],
   "source": [
    "function test_run()\n",
    "    rate_func = x -> (1/(x+0.000001))^2\n",
    "    \n",
    "    model=Model(1000, 5, \"fixed\", NaN, 3.0, 1.0, NaN, rate_func, sample_4regions)\n",
    "    simulate(model, true, \"4regions\")\n",
    "\n",
    "    model=Model(1000, 5, \"fixed\", NaN, 3.0, 1.0, NaN, rate_func, sample_16regions)\n",
    "    simulate(model, true, \"sample_16regions\")\n",
    "    \n",
    "    model=Model(1000, 5, \"fixed\", NaN, 3.0, 1.0, NaN, rate_func, sample_16regionsSoft)\n",
    "    simulate(model, true, \"sample_16regionsSoft\")\n",
    "\n",
    "    model=Model(1000, 5, \"fixed\", NaN, 3.0, 1.0, NaN, rate_func, () -> rand(2))\n",
    "    simulate(model, true, \"uniform\")\n",
    "end\n",
    "#test_run()"
   ]
  },
  {
   "cell_type": "markdown",
   "metadata": {},
   "source": [
    "### Some options for parallelization"
   ]
  },
  {
   "cell_type": "code",
   "execution_count": null,
   "metadata": {},
   "outputs": [],
   "source": [
    "function simulate_n_times(model::Model, sim_num::Int64)::Float64\n",
    "    mean([simulate(model, false) for i=1:sim_num])\n",
    "    GC.gc()\n",
    "end"
   ]
  },
  {
   "cell_type": "code",
   "execution_count": null,
   "metadata": {},
   "outputs": [],
   "source": [
    "function simulate_n_times_loop(model::Model, sim_num::Int64)::Float64\n",
    "    fds:: Array{Int64,1} = zeros(Int64, sim_num)\n",
    "    for i=1:sim_num\n",
    "        begin\n",
    "            fds[i] = simulate(model, false)\n",
    "        end\n",
    "        GC.gc()  # not sure if necessary\n",
    "    end\n",
    "    mean(fds)\n",
    "end"
   ]
  },
  {
   "cell_type": "code",
   "execution_count": null,
   "metadata": {},
   "outputs": [],
   "source": [
    "function simulate_n_times_parallel(model::Model, sim_num::Int64)::Float64\n",
    "    H=SharedArray(zeros(Int64, sim_num))\n",
    "    @distributed for i=1:sim_num\n",
    "        H[i] = simulate(deepcopy(model), false)  #somehow gives all zeros sometimes\n",
    "    end\n",
    "    #println(H)  \n",
    "    mean(H)\n",
    "end"
   ]
  },
  {
   "cell_type": "code",
   "execution_count": null,
   "metadata": {},
   "outputs": [],
   "source": [
    "# test which parallelization is the fastest\n",
    "\n",
    "function timing()\n",
    "    @time begin\n",
    "      simulate_n_times(model, 100)\n",
    "    end\n",
    "\n",
    "    @time begin\n",
    "      simulate_n_times_loop(model, 100)\n",
    "    end\n",
    "\n",
    "    @time begin\n",
    "      simulate_n_times_parallel(model, 100)\n",
    "    end\n",
    "end"
   ]
  },
  {
   "cell_type": "markdown",
   "metadata": {},
   "source": [
    "# Experiment Code"
   ]
  },
  {
   "cell_type": "code",
   "execution_count": null,
   "metadata": {},
   "outputs": [],
   "source": [
    "function add_row!(df, agents_num, infected_init, offspring_dist_type, dispersion, r0, travel_probability, travel_stop, locality, fds)\n",
    "    push!(df[\"agents_num\"], agents_num)\n",
    "    push!(df[\"infected_init\"], infected_init)\n",
    "    push!(df[\"offspring_dist_type\"], offspring_dist_type)\n",
    "    push!(df[\"dispersion\"], dispersion)\n",
    "    push!(df[\"r0\"], r0)\n",
    "    push!(df[\"travel_probability\"], travel_probability)\n",
    "    push!(df[\"travel_stop\"], travel_stop)\n",
    "    push!(df[\"locality\"], locality)\n",
    "    push!(df[\"fds\"], fds)\n",
    "end"
   ]
  },
  {
   "cell_type": "code",
   "execution_count": null,
   "metadata": {},
   "outputs": [],
   "source": [
    "function iter_sigma(name::String, steps = 50, sim_num=10000, point_sampler = sample_16regions, travel_stop = Inf, agents_num=1000, minS=0.005, maxS=0.17)\n",
    "  infected_init::Int64 = 30\n",
    "  offspring_dist_type::Array{String,1} = [\"fixed\", \"gammapoisson\", \"poisson\"]\n",
    "  dispersion::Array{Float64,1} = [1.0, 0.5, 0.25, 0.1]\n",
    "  r0::Float64 = 2.0\n",
    "  travel_probability::Float64 = 0.0\n",
    "  df = Dict(\"agents_num\" => [], \"infected_init\" => [], \"offspring_dist_type\" => [], \"dispersion\" => [], \"r0\" => [], \"travel_probability\" => [], \"travel_stop\" => [], \"locality\" => [], \"fds\" => [])\n",
    "  plot_once = true\n",
    "    \n",
    "  #locality_factor_range = LinRange(0.005, 0.17, steps)   #for 1000 agents\n",
    "  locality_factor_range = LinRange(minS, maxS, steps)\n",
    "  for dispersion_i=dispersion, offspring_dist_type_i=offspring_dist_type\n",
    "    if offspring_dist_type_i != \"gammapoisson\" && dispersion_i != dispersion[1]\n",
    "      continue\n",
    "    elseif offspring_dist_type_i != \"gammapoisson\"\n",
    "      # quick hack to indicate no actual dispersion present\n",
    "      dispersion_i = -1.0\n",
    "    end\n",
    "    fds_range = []\n",
    "    for lf = locality_factor_range\n",
    "      rate_func = x -> pdf(Normal(0.0, lf), x)\n",
    "      model=Model(agents_num, infected_init, offspring_dist_type_i, dispersion_i, r0, travel_probability, travel_stop, rate_func, point_sampler)\n",
    "      if plot_once\n",
    "            simulate(model, true, \"testPlotSigma_$(name)\")\n",
    "            plot_once = false\n",
    "      end\n",
    "      fds = missing \n",
    "      try\n",
    "          fds = simulate_n_times_loop(model, sim_num)\n",
    "      catch e\n",
    "          println(e)\n",
    "      end\n",
    "      push!(fds_range, fds)\n",
    "      add_row!(df, agents_num, infected_init, offspring_dist_type_i, dispersion_i, r0, travel_probability, travel_stop, lf, fds)\n",
    "    end\n",
    "      plot(locality_factor_range,fds_range, ylims=(0,agents_num))\n",
    "      savefig(\"plots/final_$(offspring_dist_type_i)_$(dispersion_i)_$(name).pdf\")\n",
    "  end\n",
    "  df\n",
    "end"
   ]
  },
  {
   "cell_type": "code",
   "execution_count": null,
   "metadata": {},
   "outputs": [],
   "source": [
    "function iter_travel(name::String, steps = 50, sim_num=1000, agents_num::Int64 = 1000, point_sampler = sample_16regions, travel_stop = Inf, locality_factor::Float64 = 0.015)\n",
    "  infected_init::Int64 = 30\n",
    "  offspring_dist_type::Array{String,1} = [\"fixed\", \"gammapoisson\", \"poisson\"]\n",
    "  dispersion::Array{Float64,1} = [2.0, 1.0, 0.5, 0.25, 0.1]\n",
    "  r0::Float64 = 2.0\n",
    "  #locality_factor::Float64 = 0.015\n",
    "  df = Dict(\"agents_num\" => [], \"infected_init\" => [], \"offspring_dist_type\" => [], \"dispersion\" => [], \"r0\" => [], \"travel_probability\" => [], \"travel_stop\" => [], \"locality\" => [], \"fds\" => [])\n",
    "  plot_once = true\n",
    "    \n",
    "  travel_probability_range = LinRange(0.0, 1.0, steps)\n",
    "  for dispersion_i=dispersion, offspring_dist_type_i=offspring_dist_type\n",
    "    if offspring_dist_type_i != \"gammapoisson\" && dispersion_i != dispersion[1]\n",
    "      continue\n",
    "    elseif offspring_dist_type_i != \"gammapoisson\"\n",
    "      dispersion_i = -1.0\n",
    "    end\n",
    "    fds_range = []\n",
    "    for tp = travel_probability_range\n",
    "      rate_func = x -> pdf(Normal(0.0, locality_factor), x)\n",
    "      model=Model(agents_num, infected_init, offspring_dist_type_i, dispersion_i, r0, tp, travel_stop, rate_func, point_sampler)\n",
    "      if plot_once\n",
    "            simulate(model, true, \"testPlot_$(name)\")\n",
    "            plot_once = false\n",
    "      end\n",
    "      fds = missing \n",
    "      try\n",
    "          fds = simulate_n_times_loop(model, sim_num)\n",
    "      catch e\n",
    "          println(e)\n",
    "      end\n",
    "      push!(fds_range, fds)\n",
    "      add_row!(df, agents_num, infected_init, offspring_dist_type_i, dispersion_i, r0, tp, travel_stop, locality_factor, fds)\n",
    "    end\n",
    "      plot(travel_probability_range,fds_range, ylims=(0,agents_num))\n",
    "      savefig(\"plots/final_$(offspring_dist_type_i)_$(dispersion_i)_$(name).pdf\")\n",
    "  end\n",
    "  df\n",
    "end"
   ]
  },
  {
   "cell_type": "markdown",
   "metadata": {},
   "source": [
    "# Actual Experiments"
   ]
  },
  {
   "cell_type": "code",
   "execution_count": null,
   "metadata": {},
   "outputs": [],
   "source": [
    "# turn these two numbers up to get more accurate results\n",
    "SIMNUM_10k = 500 \n",
    "XPOINTS_10k = 30\n",
    "agent_num = 10000\n",
    "\n",
    "# create output folder\n",
    "mkdir(\"plots\")  "
   ]
  },
  {
   "cell_type": "markdown",
   "metadata": {},
   "source": [
    "### Change Sigma"
   ]
  },
  {
   "cell_type": "code",
   "execution_count": null,
   "metadata": {},
   "outputs": [],
   "source": [
    "name = \"ChangeInteractionKernel\"\n",
    "df = iter_sigma(name, XPOINTS_10k, SIMNUM_10k, sample_16regionsSoft, Inf, agent_num, 0.003, 0.05)\n",
    "df = DataFrame(df)\n",
    "CSV.write(\"exp_$(name).csv\", df)"
   ]
  },
  {
   "cell_type": "markdown",
   "metadata": {},
   "source": [
    "### Change Travel Probability"
   ]
  },
  {
   "cell_type": "code",
   "execution_count": null,
   "metadata": {},
   "outputs": [],
   "source": [
    "name = \"ChangeTravelProb\"\n",
    "locality_factor_10k = 0.008 #0.07 maybe\n",
    "df = iter_travel(name, XPOINTS_10k, SIMNUM_10k, agent_num, sample_16regionsSoft, Inf, locality_factor_10k)  #at 0.01\n",
    "df = DataFrame(df)\n",
    "CSV.write(\"exp_$(name)10k.csv\", df)"
   ]
  },
  {
   "cell_type": "markdown",
   "metadata": {},
   "source": [
    "### Change Travel Probability (Delayed)"
   ]
  },
  {
   "cell_type": "code",
   "execution_count": null,
   "metadata": {},
   "outputs": [],
   "source": [
    "name = \"ChangeTravelProbAfter200Inf\"\n",
    "locality_factor_10k = 0.007 #0.07 maybe\n",
    "df = iter_travel(name, XPOINTS_10k, SIMNUM_10k, agent_num, sample_16regionsSoft, 200, locality_factor_10k)\n",
    "df = DataFrame(df)\n",
    "CSV.write(\"exp_$(name).csv\", df)"
   ]
  },
  {
   "cell_type": "markdown",
   "metadata": {},
   "source": [
    "### Fig 1 Visualization"
   ]
  },
  {
   "cell_type": "code",
   "execution_count": null,
   "metadata": {},
   "outputs": [],
   "source": [
    "sigma_small = 0.007\n",
    "sigma_large = 0.03\n",
    "sigma_tiny = 0.01 # yeah tiny is smaller than small somehow\n",
    "\n",
    "rate_func_tinysigma = x -> pdf(Normal(0.0, sigma_tiny), x)\n",
    "rate_func_smallsigma = x -> pdf(Normal(0.0, sigma_small), x)\n",
    "rate_func_largesigma = x -> pdf(Normal(0.0, sigma_large), x)\n",
    "\n",
    "model=Model(10000, 5, \"fixed\", NaN, 2.0, 0.0, Inf, rate_func_smallsigma, sample_16regionsSoft)\n",
    "s1 = simulate(model, true, \"f1FixedNoTravelSmallSigma\")\n",
    "\n",
    "model=Model(10000, 5, \"fixed\", NaN, 2.0, 0.0, Inf, rate_func_largesigma, sample_16regionsSoft)\n",
    "s2 = simulate(model, true, \"f1FixedNoTravelLargeSigma\")\n",
    "\n",
    "model=Model(10000, 5, \"fixed\", NaN, 2.0, 0.1, 200, rate_func_tinysigma, sample_16regionsSoft)\n",
    "s3 = simulate(model, true, \"f1FixedSomeTravelTinySigma\")\n",
    "\n",
    "(s1, s2, s3)\n"
   ]
  }
 ],
 "metadata": {
  "kernelspec": {
   "display_name": "Julia 1.5.3",
   "language": "julia",
   "name": "julia-1.5"
  },
  "language_info": {
   "file_extension": ".jl",
   "mimetype": "application/julia",
   "name": "julia",
   "version": "1.5.3"
  }
 },
 "nbformat": 4,
 "nbformat_minor": 4
}
